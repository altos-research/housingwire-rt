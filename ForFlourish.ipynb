{
 "cells": [
  {
   "cell_type": "code",
   "execution_count": 1,
   "metadata": {},
   "outputs": [],
   "source": [
    "import pandas as pd\n",
    "pd.options.display.float_format = '{:,.2f}'.format"
   ]
  },
  {
   "cell_type": "code",
   "execution_count": 2,
   "metadata": {},
   "outputs": [],
   "source": [
    "df = pd.read_excel('./cleaned/CleanedSubmissions.xlsx')\n",
    "df = (\n",
    "pd.DataFrame({\n",
    "    'company_id': df['CompanyID'].to_list() * 5,\n",
    "    'company': df['Company'].to_list() * 5,\n",
    "    'volume': df['2019 Volume'].to_list() + df['2020 Volume'].to_list() + df['2021 Volume'].to_list() + df['2022 Volume'].to_list() + df['2023 Volume'].to_list(),\n",
    "    'sides': df['2019 Sides'].to_list() + df['2020 Sides'].to_list() + df['2021 Sides'].to_list() + df['2022 Sides'].to_list() + df['2023 Sides'].to_list(),\n",
    "    'referrer': df['Referral Network'].to_list() * 5,\n",
    "    'year': [2019] * len(df['2019 Volume']) + [2020] * len(df['2020 Volume']) + [2021] * len(df['2021 Volume']) + [2022] * len(df['2022 Volume']) + [2023] * len(df['2023 Volume']) ,\n",
    "    # 'city': df['City'].to_list() * 5,\n",
    "    'state': df['State'].to_list() * 5, \n",
    "    # 'country': df['Country Code'].to_list() * 5, \n",
    "    'logo': df['Logo'].to_list() * 5\n",
    "})\n",
    ")\n",
    "df['pct_volume'] = df['volume'] / df.groupby('year')['volume'].transform('sum') * 100\n",
    "df['pct_sides'] = df['sides'] / df.groupby('year')['sides'].transform('sum') * 100"
   ]
  },
  {
   "cell_type": "code",
   "execution_count": 3,
   "metadata": {},
   "outputs": [],
   "source": [
    "volume_race = df.loc[df.company_id.isin(df.loc[df.volume.isin(df.groupby('year').volume.nlargest(n=10)), 'company_id'].unique())].pivot(\n",
    "                    index=['company_id', 'company', 'logo'], columns='year', values=['volume', 'pct_volume']\n",
    "                )\n",
    "volume_race.columns = volume_race.columns.droplevel()\n",
    "volume_race.columns.name = ''\n",
    "volume_race.to_excel('./flourish/LineChartRace_Top10.xlsx')"
   ]
  },
  {
   "cell_type": "code",
   "execution_count": 4,
   "metadata": {},
   "outputs": [],
   "source": [
    "sides_race = df.loc[df.company_id.isin(df.loc[df.sides.isin(df.groupby('year').sides.nlargest(n=10)), 'company_id'].unique())].pivot(\n",
    "                    index=['company_id', 'company', 'logo'], columns='year', values=['sides', 'pct_sides']\n",
    "                )\n",
    "sides_race.columns = sides_race.columns.droplevel()\n",
    "sides_race.columns.name = ''\n",
    "sides_race.to_excel('./flourish/LineChartRace_Top10_Sides.xlsx')"
   ]
  },
  {
   "cell_type": "code",
   "execution_count": 5,
   "metadata": {},
   "outputs": [],
   "source": [
    "share_referred = df.copy()[['year','referrer', 'volume', 'sides']]\n",
    "share_referred['referrer'] = share_referred.referrer.apply(lambda x: 'Major Referrers' if x != 'Independent/Other' else x)\n",
    "share_referred = share_referred.groupby(['year', 'referrer']).sum().reset_index()\n",
    "share_referred['volume'] = share_referred['volume'] / 1000000000\n",
    "share_referred['sides'] = share_referred['sides'] / 1000\n",
    "share_referred = share_referred.pivot(index='year', columns='referrer', values=['volume', 'sides'])\n",
    "share_referred.columns = share_referred.columns.droplevel()\n",
    "share_referred.columns.name = ''\n",
    "share_referred = pd.concat([share_referred.iloc[:,:2], share_referred.iloc[:,2:]])\n",
    "share_referred['group'] = ['Volume (billions of $)'] * 5 + ['Sides (thousands)'] * 5\n",
    "share_referred.to_excel('./flourish/ShareReferred.xlsx')"
   ]
  },
  {
   "cell_type": "code",
   "execution_count": 6,
   "metadata": {},
   "outputs": [],
   "source": [
    "hsa = df.copy().loc[(df.year==2023)&(df.company=='HomeServices of America'), ['company_id', 'company', 'referrer', 'volume', 'sides']]\n",
    "hsa['referrer'] = [x.split(',') for x in hsa.referrer]\n",
    "hsa = hsa.explode('referrer').reset_index(drop=True)\n",
    "hsa.loc[hsa.referrer=='Berkshire Hathaway HomeServices', 'volume'] = 55598689740 \n",
    "hsa.loc[hsa.referrer=='Berkshire Hathaway HomeServices', 'sides'] = 90533 \n",
    "hsa.loc[hsa.referrer=='LeadingRE', 'volume'] = 77495317918 \n",
    "hsa.loc[hsa.referrer=='LeadingRE', 'sides'] = 143645 \n",
    "# add Indy\n",
    "hsa = pd.concat([hsa, pd.DataFrame({'company_id': [hsa.company_id.min()],\n",
    "                              'company': [hsa.company.min()],\n",
    "                              'referrer': ['Other'],\n",
    "                              'volume': [712707712 ],\n",
    "                              'sides': [1683 ]})], ignore_index=True)\n",
    "\n",
    "tomlinson = df.copy().loc[(df.year==2023)&(df.company.str.contains('Tomlinson')), ['company_id', 'company', 'referrer', 'volume', 'sides']]\n",
    "tomlinson['referrer'] = [x.split(',') for x in tomlinson.referrer]\n",
    "tomlinson = tomlinson.explode('referrer').reset_index(drop=True)\n",
    "tomlinson.loc[tomlinson.referrer=='CENTURY 21', 'volume'] = 568810771 \n",
    "tomlinson.loc[tomlinson.referrer=='CENTURY 21', 'sides'] = 833 \n",
    "tomlinson.loc[tomlinson.referrer=='Coldwell Banker', 'volume'] = 1478825889 \n",
    "tomlinson.loc[tomlinson.referrer=='Coldwell Banker', 'sides'] = 3302 \n",
    "tomlinson.loc[tomlinson.referrer=='Sotheby\\'s International Realty', 'volume'] = 959482647 \n",
    "tomlinson.loc[tomlinson.referrer=='Sotheby\\'s International Realty', 'sides'] = 1007 \n",
    "\n",
    "hrc = df.copy().loc[(df.year==2023)&(df.company.str.contains('HRC')), ['company_id', 'company', 'referrer', 'volume', 'sides']]\n",
    "hrc['referrer'] = [x.split(',') for x in hrc.referrer]\n",
    "hrc = hrc.explode('referrer').reset_index(drop=True)\n",
    "hrc.loc[hrc.referrer=='CENTURY 21', 'volume'] = 517245607 \n",
    "hrc.loc[hrc.referrer=='CENTURY 21', 'sides'] = 1575 \n",
    "hrc.loc[hrc.referrer=='Coldwell Banker', 'volume'] = 333213199 \n",
    "hrc.loc[hrc.referrer=='Coldwell Banker', 'sides'] = 1555 \n",
    "\n",
    "anywhere = df.copy().loc[(df.year==2023)&(df.company.str.contains('Anywhere Advisors')), ['company_id', 'company', 'referrer', 'volume', 'sides']]\n",
    "anywhere['referrer'] = [x.split(',') for x in anywhere.referrer]\n",
    "anywhere = anywhere.explode('referrer').reset_index(drop=True)\n",
    "anywhere.loc[anywhere.referrer=='Coldwell Banker', 'volume'] = 143003776000 \n",
    "anywhere.loc[anywhere.referrer=='Coldwell Banker', 'sides'] = 234969 \n",
    "anywhere.loc[anywhere.referrer=='Corcoran', 'volume'] = 15306481000 \n",
    "anywhere.loc[anywhere.referrer=='Corcoran', 'sides'] = 7375 \n",
    "anywhere.loc[anywhere.referrer=='Sotheby\\'s International Realty', 'volume'] = 17919208000 \n",
    "anywhere.loc[anywhere.referrer=='Sotheby\\'s International Realty', 'sides'] = 9679 \n",
    "\n",
    "multis = pd.concat([hsa, tomlinson, hrc, anywhere], ignore_index=True)\n",
    "\n",
    "top_referrers = pd.concat([multis, \n",
    "                    df.loc[(df.year==2023)&(df.referrer!='Independent/Other')&(~df.company.isin(multis.company.unique())), \n",
    "                            ['company_id', 'referrer', 'volume', 'sides']]]).groupby('referrer').agg({\n",
    "                                'company_id':'nunique',\n",
    "                                'volume':'sum',\n",
    "                                'sides':'sum'\n",
    "                            }).sort_values(by='volume', ascending=False)\n",
    "top_referrers['volume'] = top_referrers['volume'].astype('int64')\n",
    "top_referrers['sides'] = top_referrers['sides'].astype('int64')\n",
    "\n",
    "top_referrers = top_referrers.iloc[:-1,:]\n",
    "\n",
    "top_referrers['volume'] = round(top_referrers.volume / 1000000000,2)\n",
    "top_referrers['sides'] = round(top_referrers.sides / 1000,2)\n",
    "\n",
    "top_referrers['volume_per_company'] = top_referrers.volume / top_referrers.company_id \n",
    "top_referrers['sides_per_company'] = top_referrers.sides / top_referrers.company_id\n",
    "\n",
    "top_referrers.to_excel('./flourish/TopReferrers2023.xlsx')"
   ]
  },
  {
   "cell_type": "code",
   "execution_count": 7,
   "metadata": {},
   "outputs": [],
   "source": [
    "# not independent/other and not null\n",
    "just_referrers = df.dropna(how='any')\n",
    "just_referrers = just_referrers.loc[just_referrers.referrer!='Independent/Other', ['year', 'state', 'referrer']]\n",
    "# clean state column\n",
    "just_referrers.loc[just_referrers.state=='Arizona', 'state'] = 'AZ'\n",
    "# address companies with multiple affiliations\n",
    "just_referrers['referrer'] = just_referrers.referrer.apply(lambda x: x.split(','))\n",
    "just_referrers = just_referrers.explode('referrer')\n",
    "\n",
    "just_referrers = pd.DataFrame(just_referrers.value_counts()).sort_values(by=['year', 'state', 'count'], ascending=[True, True, False]).reset_index()\n",
    "just_referrers['state_rank'] = just_referrers.groupby(['year', 'state'])['count'].rank(ascending=False, method='min').astype('int64')\n",
    "\n",
    "just_referrers = just_referrers.loc[just_referrers.state_rank==1]\n",
    "\n",
    "just_referrers = just_referrers.groupby(['year','state'])['referrer'].apply(lambda x: ', '.join(x)).reset_index()\n",
    "just_referrers['referrer'] = just_referrers['referrer'].apply(lambda x: 'Multiple' if ', ' in x else x)\n",
    "\n",
    "just_referrers = just_referrers.pivot(index='state', columns='year', values='referrer')\n",
    "just_referrers.columns.name = ''\n",
    "\n",
    "just_referrers.to_excel('./flourish/ReferrerByState.xlsx')"
   ]
  },
  {
   "cell_type": "code",
   "execution_count": null,
   "metadata": {},
   "outputs": [],
   "source": []
  }
 ],
 "metadata": {
  "kernelspec": {
   "display_name": "base",
   "language": "python",
   "name": "python3"
  },
  "language_info": {
   "codemirror_mode": {
    "name": "ipython",
    "version": 3
   },
   "file_extension": ".py",
   "mimetype": "text/x-python",
   "name": "python",
   "nbconvert_exporter": "python",
   "pygments_lexer": "ipython3",
   "version": "3.11.4"
  }
 },
 "nbformat": 4,
 "nbformat_minor": 2
}
